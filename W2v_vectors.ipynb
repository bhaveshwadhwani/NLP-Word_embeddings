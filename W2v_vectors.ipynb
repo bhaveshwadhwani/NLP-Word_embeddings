{
  "nbformat": 4,
  "nbformat_minor": 0,
  "metadata": {
    "colab": {
      "name": "W2v_vectors.ipynb",
      "provenance": [],
      "collapsed_sections": [],
      "mount_file_id": "15uLapdPYM9RT7sxfQq9UjoulrpYA9yob",
      "authorship_tag": "ABX9TyN7oIn9jCXzwPZ+0Rq6P8oR",
      "include_colab_link": true
    },
    "kernelspec": {
      "name": "python3",
      "display_name": "Python 3"
    },
    "accelerator": "GPU"
  },
  "cells": [
    {
      "cell_type": "markdown",
      "metadata": {
        "id": "view-in-github",
        "colab_type": "text"
      },
      "source": [
        "<a href=\"https://colab.research.google.com/github/bhaveshwadhwani/NLP-Word_embeddings/blob/master/W2v_vectors.ipynb\" target=\"_parent\"><img src=\"https://colab.research.google.com/assets/colab-badge.svg\" alt=\"Open In Colab\"/></a>"
      ]
    },
    {
      "cell_type": "code",
      "metadata": {
        "id": "_V-7nU2sXAE8",
        "colab_type": "code",
        "colab": {}
      },
      "source": [
        "from gensim.models import Word2Vec"
      ],
      "execution_count": 0,
      "outputs": []
    },
    {
      "cell_type": "code",
      "metadata": {
        "id": "SnHRqVlVW7ul",
        "colab_type": "code",
        "colab": {
          "base_uri": "https://localhost:8080/",
          "height": 1000
        },
        "outputId": "336df5db-340e-4eef-8a4b-4c7379d085ce"
      },
      "source": [
        "help(Word2Vec)"
      ],
      "execution_count": 10,
      "outputs": [
        {
          "output_type": "stream",
          "text": [
            "Help on class Word2Vec in module gensim.models.word2vec:\n",
            "\n",
            "class Word2Vec(gensim.models.base_any2vec.BaseWordEmbeddingsModel)\n",
            " |  Train, use and evaluate neural networks described in https://code.google.com/p/word2vec/.\n",
            " |  \n",
            " |  Once you're finished training a model (=no more updates, only querying)\n",
            " |  store and use only the :class:`~gensim.models.keyedvectors.KeyedVectors` instance in `self.wv` to reduce memory.\n",
            " |  \n",
            " |  The model can be stored/loaded via its :meth:`~gensim.models.word2vec.Word2Vec.save` and\n",
            " |  :meth:`~gensim.models.word2vec.Word2Vec.load` methods.\n",
            " |  \n",
            " |  The trained word vectors can also be stored/loaded from a format compatible with the\n",
            " |  original word2vec implementation via `self.wv.save_word2vec_format`\n",
            " |  and :meth:`gensim.models.keyedvectors.KeyedVectors.load_word2vec_format`.\n",
            " |  \n",
            " |  Some important attributes are the following:\n",
            " |  \n",
            " |  Attributes\n",
            " |  ----------\n",
            " |  wv : :class:`~gensim.models.keyedvectors.Word2VecKeyedVectors`\n",
            " |      This object essentially contains the mapping between words and embeddings. After training, it can be used\n",
            " |      directly to query those embeddings in various ways. See the module level docstring for examples.\n",
            " |  \n",
            " |  vocabulary : :class:`~gensim.models.word2vec.Word2VecVocab`\n",
            " |      This object represents the vocabulary (sometimes called Dictionary in gensim) of the model.\n",
            " |      Besides keeping track of all unique words, this object provides extra functionality, such as\n",
            " |      constructing a huffman tree (frequent words are closer to the root), or discarding extremely rare words.\n",
            " |  \n",
            " |  trainables : :class:`~gensim.models.word2vec.Word2VecTrainables`\n",
            " |      This object represents the inner shallow neural network used to train the embeddings. The semantics of the\n",
            " |      network differ slightly in the two available training modes (CBOW or SG) but you can think of it as a NN with\n",
            " |      a single projection and hidden layer which we train on the corpus. The weights are then used as our embeddings\n",
            " |      (which means that the size of the hidden layer is equal to the number of features `self.size`).\n",
            " |  \n",
            " |  Method resolution order:\n",
            " |      Word2Vec\n",
            " |      gensim.models.base_any2vec.BaseWordEmbeddingsModel\n",
            " |      gensim.models.base_any2vec.BaseAny2VecModel\n",
            " |      gensim.utils.SaveLoad\n",
            " |      builtins.object\n",
            " |  \n",
            " |  Methods defined here:\n",
            " |  \n",
            " |  __contains__(self, word)\n",
            " |      Deprecated. Use `self.wv.__contains__` instead.\n",
            " |      Refer to the documentation for :meth:`~gensim.models.keyedvectors.Word2VecKeyedVectors.__contains__`.\n",
            " |  \n",
            " |  __getitem__(self, words)\n",
            " |      Deprecated. Use `self.wv.__getitem__` instead.\n",
            " |      Refer to the documentation for :meth:`~gensim.models.keyedvectors.Word2VecKeyedVectors.__getitem__`.\n",
            " |  \n",
            " |  __init__(self, sentences=None, corpus_file=None, size=100, alpha=0.025, window=5, min_count=5, max_vocab_size=None, sample=0.001, seed=1, workers=3, min_alpha=0.0001, sg=0, hs=0, negative=5, ns_exponent=0.75, cbow_mean=1, hashfxn=<built-in function hash>, iter=5, null_word=0, trim_rule=None, sorted_vocab=1, batch_words=10000, compute_loss=False, callbacks=(), max_final_vocab=None)\n",
            " |      Parameters\n",
            " |      ----------\n",
            " |      sentences : iterable of iterables, optional\n",
            " |          The `sentences` iterable can be simply a list of lists of tokens, but for larger corpora,\n",
            " |          consider an iterable that streams the sentences directly from disk/network.\n",
            " |          See :class:`~gensim.models.word2vec.BrownCorpus`, :class:`~gensim.models.word2vec.Text8Corpus`\n",
            " |          or :class:`~gensim.models.word2vec.LineSentence` in :mod:`~gensim.models.word2vec` module for such examples.\n",
            " |          See also the `tutorial on data streaming in Python\n",
            " |          <https://rare-technologies.com/data-streaming-in-python-generators-iterators-iterables/>`_.\n",
            " |          If you don't supply `sentences`, the model is left uninitialized -- use if you plan to initialize it\n",
            " |          in some other way.\n",
            " |      corpus_file : str, optional\n",
            " |          Path to a corpus file in :class:`~gensim.models.word2vec.LineSentence` format.\n",
            " |          You may use this argument instead of `sentences` to get performance boost. Only one of `sentences` or\n",
            " |          `corpus_file` arguments need to be passed (or none of them).\n",
            " |      size : int, optional\n",
            " |          Dimensionality of the word vectors.\n",
            " |      window : int, optional\n",
            " |          Maximum distance between the current and predicted word within a sentence.\n",
            " |      min_count : int, optional\n",
            " |          Ignores all words with total frequency lower than this.\n",
            " |      workers : int, optional\n",
            " |          Use these many worker threads to train the model (=faster training with multicore machines).\n",
            " |      sg : {0, 1}, optional\n",
            " |          Training algorithm: 1 for skip-gram; otherwise CBOW.\n",
            " |      hs : {0, 1}, optional\n",
            " |          If 1, hierarchical softmax will be used for model training.\n",
            " |          If 0, and `negative` is non-zero, negative sampling will be used.\n",
            " |      negative : int, optional\n",
            " |          If > 0, negative sampling will be used, the int for negative specifies how many \"noise words\"\n",
            " |          should be drawn (usually between 5-20).\n",
            " |          If set to 0, no negative sampling is used.\n",
            " |      ns_exponent : float, optional\n",
            " |          The exponent used to shape the negative sampling distribution. A value of 1.0 samples exactly in proportion\n",
            " |          to the frequencies, 0.0 samples all words equally, while a negative value samples low-frequency words more\n",
            " |          than high-frequency words. The popular default value of 0.75 was chosen by the original Word2Vec paper.\n",
            " |          More recently, in https://arxiv.org/abs/1804.04212, Caselles-Dupré, Lesaint, & Royo-Letelier suggest that\n",
            " |          other values may perform better for recommendation applications.\n",
            " |      cbow_mean : {0, 1}, optional\n",
            " |          If 0, use the sum of the context word vectors. If 1, use the mean, only applies when cbow is used.\n",
            " |      alpha : float, optional\n",
            " |          The initial learning rate.\n",
            " |      min_alpha : float, optional\n",
            " |          Learning rate will linearly drop to `min_alpha` as training progresses.\n",
            " |      seed : int, optional\n",
            " |          Seed for the random number generator. Initial vectors for each word are seeded with a hash of\n",
            " |          the concatenation of word + `str(seed)`. Note that for a fully deterministically-reproducible run,\n",
            " |          you must also limit the model to a single worker thread (`workers=1`), to eliminate ordering jitter\n",
            " |          from OS thread scheduling. (In Python 3, reproducibility between interpreter launches also requires\n",
            " |          use of the `PYTHONHASHSEED` environment variable to control hash randomization).\n",
            " |      max_vocab_size : int, optional\n",
            " |          Limits the RAM during vocabulary building; if there are more unique\n",
            " |          words than this, then prune the infrequent ones. Every 10 million word types need about 1GB of RAM.\n",
            " |          Set to `None` for no limit.\n",
            " |      max_final_vocab : int, optional\n",
            " |          Limits the vocab to a target vocab size by automatically picking a matching min_count. If the specified\n",
            " |          min_count is more than the calculated min_count, the specified min_count will be used.\n",
            " |          Set to `None` if not required.\n",
            " |      sample : float, optional\n",
            " |          The threshold for configuring which higher-frequency words are randomly downsampled,\n",
            " |          useful range is (0, 1e-5).\n",
            " |      hashfxn : function, optional\n",
            " |          Hash function to use to randomly initialize weights, for increased training reproducibility.\n",
            " |      iter : int, optional\n",
            " |          Number of iterations (epochs) over the corpus.\n",
            " |      trim_rule : function, optional\n",
            " |          Vocabulary trimming rule, specifies whether certain words should remain in the vocabulary,\n",
            " |          be trimmed away, or handled using the default (discard if word count < min_count).\n",
            " |          Can be None (min_count will be used, look to :func:`~gensim.utils.keep_vocab_item`),\n",
            " |          or a callable that accepts parameters (word, count, min_count) and returns either\n",
            " |          :attr:`gensim.utils.RULE_DISCARD`, :attr:`gensim.utils.RULE_KEEP` or :attr:`gensim.utils.RULE_DEFAULT`.\n",
            " |          The rule, if given, is only used to prune vocabulary during build_vocab() and is not stored as part of the\n",
            " |          model.\n",
            " |      \n",
            " |          The input parameters are of the following types:\n",
            " |              * `word` (str) - the word we are examining\n",
            " |              * `count` (int) - the word's frequency count in the corpus\n",
            " |              * `min_count` (int) - the minimum count threshold.\n",
            " |      sorted_vocab : {0, 1}, optional\n",
            " |          If 1, sort the vocabulary by descending frequency before assigning word indexes.\n",
            " |          See :meth:`~gensim.models.word2vec.Word2VecVocab.sort_vocab()`.\n",
            " |      batch_words : int, optional\n",
            " |          Target size (in words) for batches of examples passed to worker threads (and\n",
            " |          thus cython routines).(Larger batches will be passed if individual\n",
            " |          texts are longer than 10000 words, but the standard cython code truncates to that maximum.)\n",
            " |      compute_loss: bool, optional\n",
            " |          If True, computes and stores loss value which can be retrieved using\n",
            " |          :meth:`~gensim.models.word2vec.Word2Vec.get_latest_training_loss`.\n",
            " |      callbacks : iterable of :class:`~gensim.models.callbacks.CallbackAny2Vec`, optional\n",
            " |          Sequence of callbacks to be executed at specific stages during training.\n",
            " |      \n",
            " |      Examples\n",
            " |      --------\n",
            " |      Initialize and train a :class:`~gensim.models.word2vec.Word2Vec` model\n",
            " |      \n",
            " |      >>> from gensim.models import Word2Vec\n",
            " |      >>> sentences = [[\"cat\", \"say\", \"meow\"], [\"dog\", \"say\", \"woof\"]]\n",
            " |      >>> model = Word2Vec(sentences, min_count=1)\n",
            " |  \n",
            " |  __str__(self)\n",
            " |      Human readable representation of the model's state.\n",
            " |      \n",
            " |      Returns\n",
            " |      -------\n",
            " |      str\n",
            " |          Human readable representation of the model's state, including the vocabulary size, vector size\n",
            " |          and learning rate.\n",
            " |  \n",
            " |  accuracy(self, questions, restrict_vocab=30000, most_similar=None, case_insensitive=True)\n",
            " |      Deprecated. Use `self.wv.accuracy` instead.\n",
            " |      See :meth:`~gensim.models.word2vec.Word2VecKeyedVectors.accuracy`.\n",
            " |  \n",
            " |  clear_sims(self)\n",
            " |      Remove all L2-normalized word vectors from the model, to free up memory.\n",
            " |      \n",
            " |      You can recompute them later again using the :meth:`~gensim.models.word2vec.Word2Vec.init_sims` method.\n",
            " |  \n",
            " |  delete_temporary_training_data(self, replace_word_vectors_with_normalized=False)\n",
            " |      Discard parameters that are used in training and scoring, to save memory.\n",
            " |      \n",
            " |      Warnings\n",
            " |      --------\n",
            " |      Use only if you're sure you're done training a model.\n",
            " |      \n",
            " |      Parameters\n",
            " |      ----------\n",
            " |      replace_word_vectors_with_normalized : bool, optional\n",
            " |          If True, forget the original (not normalized) word vectors and only keep\n",
            " |          the L2-normalized word vectors, to save even more memory.\n",
            " |  \n",
            " |  get_latest_training_loss(self)\n",
            " |      Get current value of the training loss.\n",
            " |      \n",
            " |      Returns\n",
            " |      -------\n",
            " |      float\n",
            " |          Current training loss.\n",
            " |  \n",
            " |  init_sims(self, replace=False)\n",
            " |      Deprecated. Use `self.wv.init_sims` instead.\n",
            " |      See :meth:`~gensim.models.keyedvectors.Word2VecKeyedVectors.init_sims`.\n",
            " |  \n",
            " |  intersect_word2vec_format(self, fname, lockf=0.0, binary=False, encoding='utf8', unicode_errors='strict')\n",
            " |      Merge in an input-hidden weight matrix loaded from the original C word2vec-tool format,\n",
            " |      where it intersects with the current vocabulary.\n",
            " |      \n",
            " |      No words are added to the existing vocabulary, but intersecting words adopt the file's weights, and\n",
            " |      non-intersecting words are left alone.\n",
            " |      \n",
            " |      Parameters\n",
            " |      ----------\n",
            " |      fname : str\n",
            " |          The file path to load the vectors from.\n",
            " |      lockf : float, optional\n",
            " |          Lock-factor value to be set for any imported word-vectors; the\n",
            " |          default value of 0.0 prevents further updating of the vector during subsequent\n",
            " |          training. Use 1.0 to allow further training updates of merged vectors.\n",
            " |      binary : bool, optional\n",
            " |          If True, `fname` is in the binary word2vec C format.\n",
            " |      encoding : str, optional\n",
            " |          Encoding of `text` for `unicode` function (python2 only).\n",
            " |      unicode_errors : str, optional\n",
            " |          Error handling behaviour, used as parameter for `unicode` function (python2 only).\n",
            " |  \n",
            " |  predict_output_word(self, context_words_list, topn=10)\n",
            " |      Get the probability distribution of the center word given context words.\n",
            " |      \n",
            " |      Parameters\n",
            " |      ----------\n",
            " |      context_words_list : list of str\n",
            " |          List of context words.\n",
            " |      topn : int, optional\n",
            " |          Return `topn` words and their probabilities.\n",
            " |      \n",
            " |      Returns\n",
            " |      -------\n",
            " |      list of (str, float)\n",
            " |          `topn` length list of tuples of (word, probability).\n",
            " |  \n",
            " |  reset_from(self, other_model)\n",
            " |      Borrow shareable pre-built structures from `other_model` and reset hidden layer weights.\n",
            " |      \n",
            " |      Structures copied are:\n",
            " |          * Vocabulary\n",
            " |          * Index to word mapping\n",
            " |          * Cumulative frequency table (used for negative sampling)\n",
            " |          * Cached corpus length\n",
            " |      \n",
            " |      Useful when testing multiple models on the same corpus in parallel.\n",
            " |      \n",
            " |      Parameters\n",
            " |      ----------\n",
            " |      other_model : :class:`~gensim.models.word2vec.Word2Vec`\n",
            " |          Another model to copy the internal structures from.\n",
            " |  \n",
            " |  save(self, *args, **kwargs)\n",
            " |      Save the model.\n",
            " |      This saved model can be loaded again using :func:`~gensim.models.word2vec.Word2Vec.load`, which supports\n",
            " |      online training and getting vectors for vocabulary words.\n",
            " |      \n",
            " |      Parameters\n",
            " |      ----------\n",
            " |      fname : str\n",
            " |          Path to the file.\n",
            " |  \n",
            " |  save_word2vec_format(self, fname, fvocab=None, binary=False)\n",
            " |      Deprecated. Use `model.wv.save_word2vec_format` instead.\n",
            " |      See :meth:`gensim.models.KeyedVectors.save_word2vec_format`.\n",
            " |  \n",
            " |  score(self, sentences, total_sentences=1000000, chunksize=100, queue_factor=2, report_delay=1)\n",
            " |      Score the log probability for a sequence of sentences.\n",
            " |      This does not change the fitted model in any way (see :meth:`~gensim.models.word2vec.Word2Vec.train` for that).\n",
            " |      \n",
            " |      Gensim has currently only implemented score for the hierarchical softmax scheme,\n",
            " |      so you need to have run word2vec with `hs=1` and `negative=0` for this to work.\n",
            " |      \n",
            " |      Note that you should specify `total_sentences`; you'll run into problems if you ask to\n",
            " |      score more than this number of sentences but it is inefficient to set the value too high.\n",
            " |      \n",
            " |      See the `article by Matt Taddy: \"Document Classification by Inversion of Distributed Language Representations\"\n",
            " |      <https://arxiv.org/pdf/1504.07295.pdf>`_ and the\n",
            " |      `gensim demo <https://github.com/piskvorky/gensim/blob/develop/docs/notebooks/deepir.ipynb>`_ for examples of\n",
            " |      how to use such scores in document classification.\n",
            " |      \n",
            " |      Parameters\n",
            " |      ----------\n",
            " |      sentences : iterable of list of str\n",
            " |          The `sentences` iterable can be simply a list of lists of tokens, but for larger corpora,\n",
            " |          consider an iterable that streams the sentences directly from disk/network.\n",
            " |          See :class:`~gensim.models.word2vec.BrownCorpus`, :class:`~gensim.models.word2vec.Text8Corpus`\n",
            " |          or :class:`~gensim.models.word2vec.LineSentence` in :mod:`~gensim.models.word2vec` module for such examples.\n",
            " |      total_sentences : int, optional\n",
            " |          Count of sentences.\n",
            " |      chunksize : int, optional\n",
            " |          Chunksize of jobs\n",
            " |      queue_factor : int, optional\n",
            " |          Multiplier for size of queue (number of workers * queue_factor).\n",
            " |      report_delay : float, optional\n",
            " |          Seconds to wait before reporting progress.\n",
            " |  \n",
            " |  train(self, sentences=None, corpus_file=None, total_examples=None, total_words=None, epochs=None, start_alpha=None, end_alpha=None, word_count=0, queue_factor=2, report_delay=1.0, compute_loss=False, callbacks=())\n",
            " |      Update the model's neural weights from a sequence of sentences.\n",
            " |      \n",
            " |      Notes\n",
            " |      -----\n",
            " |      To support linear learning-rate decay from (initial) `alpha` to `min_alpha`, and accurate\n",
            " |      progress-percentage logging, either `total_examples` (count of sentences) or `total_words` (count of\n",
            " |      raw words in sentences) **MUST** be provided. If `sentences` is the same corpus\n",
            " |      that was provided to :meth:`~gensim.models.word2vec.Word2Vec.build_vocab` earlier,\n",
            " |      you can simply use `total_examples=self.corpus_count`.\n",
            " |      \n",
            " |      Warnings\n",
            " |      --------\n",
            " |      To avoid common mistakes around the model's ability to do multiple training passes itself, an\n",
            " |      explicit `epochs` argument **MUST** be provided. In the common and recommended case\n",
            " |      where :meth:`~gensim.models.word2vec.Word2Vec.train` is only called once, you can set `epochs=self.iter`.\n",
            " |      \n",
            " |      Parameters\n",
            " |      ----------\n",
            " |      sentences : iterable of list of str\n",
            " |          The `sentences` iterable can be simply a list of lists of tokens, but for larger corpora,\n",
            " |          consider an iterable that streams the sentences directly from disk/network.\n",
            " |          See :class:`~gensim.models.word2vec.BrownCorpus`, :class:`~gensim.models.word2vec.Text8Corpus`\n",
            " |          or :class:`~gensim.models.word2vec.LineSentence` in :mod:`~gensim.models.word2vec` module for such examples.\n",
            " |          See also the `tutorial on data streaming in Python\n",
            " |          <https://rare-technologies.com/data-streaming-in-python-generators-iterators-iterables/>`_.\n",
            " |      corpus_file : str, optional\n",
            " |          Path to a corpus file in :class:`~gensim.models.word2vec.LineSentence` format.\n",
            " |          You may use this argument instead of `sentences` to get performance boost. Only one of `sentences` or\n",
            " |          `corpus_file` arguments need to be passed (not both of them).\n",
            " |      total_examples : int\n",
            " |          Count of sentences.\n",
            " |      total_words : int\n",
            " |          Count of raw words in sentences.\n",
            " |      epochs : int\n",
            " |          Number of iterations (epochs) over the corpus.\n",
            " |      start_alpha : float, optional\n",
            " |          Initial learning rate. If supplied, replaces the starting `alpha` from the constructor,\n",
            " |          for this one call to`train()`.\n",
            " |          Use only if making multiple calls to `train()`, when you want to manage the alpha learning-rate yourself\n",
            " |          (not recommended).\n",
            " |      end_alpha : float, optional\n",
            " |          Final learning rate. Drops linearly from `start_alpha`.\n",
            " |          If supplied, this replaces the final `min_alpha` from the constructor, for this one call to `train()`.\n",
            " |          Use only if making multiple calls to `train()`, when you want to manage the alpha learning-rate yourself\n",
            " |          (not recommended).\n",
            " |      word_count : int, optional\n",
            " |          Count of words already trained. Set this to 0 for the usual\n",
            " |          case of training on all words in sentences.\n",
            " |      queue_factor : int, optional\n",
            " |          Multiplier for size of queue (number of workers * queue_factor).\n",
            " |      report_delay : float, optional\n",
            " |          Seconds to wait before reporting progress.\n",
            " |      compute_loss: bool, optional\n",
            " |          If True, computes and stores loss value which can be retrieved using\n",
            " |          :meth:`~gensim.models.word2vec.Word2Vec.get_latest_training_loss`.\n",
            " |      callbacks : iterable of :class:`~gensim.models.callbacks.CallbackAny2Vec`, optional\n",
            " |          Sequence of callbacks to be executed at specific stages during training.\n",
            " |      \n",
            " |      Examples\n",
            " |      --------\n",
            " |      >>> from gensim.models import Word2Vec\n",
            " |      >>> sentences = [[\"cat\", \"say\", \"meow\"], [\"dog\", \"say\", \"woof\"]]\n",
            " |      >>>\n",
            " |      >>> model = Word2Vec(min_count=1)\n",
            " |      >>> model.build_vocab(sentences)  # prepare the model vocabulary\n",
            " |      >>> model.train(sentences, total_examples=model.corpus_count, epochs=model.iter)  # train word vectors\n",
            " |      (1, 30)\n",
            " |  \n",
            " |  ----------------------------------------------------------------------\n",
            " |  Class methods defined here:\n",
            " |  \n",
            " |  load(*args, **kwargs) from builtins.type\n",
            " |      Load a previously saved :class:`~gensim.models.word2vec.Word2Vec` model.\n",
            " |      \n",
            " |      See Also\n",
            " |      --------\n",
            " |      :meth:`~gensim.models.word2vec.Word2Vec.save`\n",
            " |          Save model.\n",
            " |      \n",
            " |      Parameters\n",
            " |      ----------\n",
            " |      fname : str\n",
            " |          Path to the saved file.\n",
            " |      \n",
            " |      Returns\n",
            " |      -------\n",
            " |      :class:`~gensim.models.word2vec.Word2Vec`\n",
            " |          Loaded model.\n",
            " |  \n",
            " |  load_word2vec_format(fname, fvocab=None, binary=False, encoding='utf8', unicode_errors='strict', limit=None, datatype=<class 'numpy.float32'>) from builtins.type\n",
            " |      Deprecated. Use :meth:`gensim.models.KeyedVectors.load_word2vec_format` instead.\n",
            " |  \n",
            " |  ----------------------------------------------------------------------\n",
            " |  Static methods defined here:\n",
            " |  \n",
            " |  log_accuracy(section)\n",
            " |      Deprecated. Use `self.wv.log_accuracy` instead.\n",
            " |      See :meth:`~gensim.models.word2vec.Word2VecKeyedVectors.log_accuracy`.\n",
            " |  \n",
            " |  ----------------------------------------------------------------------\n",
            " |  Data and other attributes defined here:\n",
            " |  \n",
            " |  __slotnames__ = []\n",
            " |  \n",
            " |  ----------------------------------------------------------------------\n",
            " |  Methods inherited from gensim.models.base_any2vec.BaseWordEmbeddingsModel:\n",
            " |  \n",
            " |  build_vocab(self, sentences=None, corpus_file=None, update=False, progress_per=10000, keep_raw_vocab=False, trim_rule=None, **kwargs)\n",
            " |      Build vocabulary from a sequence of sentences (can be a once-only generator stream).\n",
            " |      \n",
            " |      Parameters\n",
            " |      ----------\n",
            " |      sentences : iterable of list of str\n",
            " |          Can be simply a list of lists of tokens, but for larger corpora,\n",
            " |          consider an iterable that streams the sentences directly from disk/network.\n",
            " |          See :class:`~gensim.models.word2vec.BrownCorpus`, :class:`~gensim.models.word2vec.Text8Corpus`\n",
            " |          or :class:`~gensim.models.word2vec.LineSentence` module for such examples.\n",
            " |      corpus_file : str, optional\n",
            " |          Path to a corpus file in :class:`~gensim.models.word2vec.LineSentence` format.\n",
            " |          You may use this argument instead of `sentences` to get performance boost. Only one of `sentences` or\n",
            " |          `corpus_file` arguments need to be passed (not both of them).\n",
            " |      update : bool\n",
            " |          If true, the new words in `sentences` will be added to model's vocab.\n",
            " |      progress_per : int, optional\n",
            " |          Indicates how many words to process before showing/updating the progress.\n",
            " |      keep_raw_vocab : bool, optional\n",
            " |          If False, the raw vocabulary will be deleted after the scaling is done to free up RAM.\n",
            " |      trim_rule : function, optional\n",
            " |          Vocabulary trimming rule, specifies whether certain words should remain in the vocabulary,\n",
            " |          be trimmed away, or handled using the default (discard if word count < min_count).\n",
            " |          Can be None (min_count will be used, look to :func:`~gensim.utils.keep_vocab_item`),\n",
            " |          or a callable that accepts parameters (word, count, min_count) and returns either\n",
            " |          :attr:`gensim.utils.RULE_DISCARD`, :attr:`gensim.utils.RULE_KEEP` or :attr:`gensim.utils.RULE_DEFAULT`.\n",
            " |          The rule, if given, is only used to prune vocabulary during current method call and is not stored as part\n",
            " |          of the model.\n",
            " |      \n",
            " |          The input parameters are of the following types:\n",
            " |              * `word` (str) - the word we are examining\n",
            " |              * `count` (int) - the word's frequency count in the corpus\n",
            " |              * `min_count` (int) - the minimum count threshold.\n",
            " |      \n",
            " |      **kwargs : object\n",
            " |          Key word arguments propagated to `self.vocabulary.prepare_vocab`\n",
            " |  \n",
            " |  build_vocab_from_freq(self, word_freq, keep_raw_vocab=False, corpus_count=None, trim_rule=None, update=False)\n",
            " |      Build vocabulary from a dictionary of word frequencies.\n",
            " |      \n",
            " |      Parameters\n",
            " |      ----------\n",
            " |      word_freq : dict of (str, int)\n",
            " |          A mapping from a word in the vocabulary to its frequency count.\n",
            " |      keep_raw_vocab : bool, optional\n",
            " |          If False, delete the raw vocabulary after the scaling is done to free up RAM.\n",
            " |      corpus_count : int, optional\n",
            " |          Even if no corpus is provided, this argument can set corpus_count explicitly.\n",
            " |      trim_rule : function, optional\n",
            " |          Vocabulary trimming rule, specifies whether certain words should remain in the vocabulary,\n",
            " |          be trimmed away, or handled using the default (discard if word count < min_count).\n",
            " |          Can be None (min_count will be used, look to :func:`~gensim.utils.keep_vocab_item`),\n",
            " |          or a callable that accepts parameters (word, count, min_count) and returns either\n",
            " |          :attr:`gensim.utils.RULE_DISCARD`, :attr:`gensim.utils.RULE_KEEP` or :attr:`gensim.utils.RULE_DEFAULT`.\n",
            " |          The rule, if given, is only used to prune vocabulary during current method call and is not stored as part\n",
            " |          of the model.\n",
            " |      \n",
            " |          The input parameters are of the following types:\n",
            " |              * `word` (str) - the word we are examining\n",
            " |              * `count` (int) - the word's frequency count in the corpus\n",
            " |              * `min_count` (int) - the minimum count threshold.\n",
            " |      \n",
            " |      update : bool, optional\n",
            " |          If true, the new provided words in `word_freq` dict will be added to model's vocab.\n",
            " |  \n",
            " |  doesnt_match(self, words)\n",
            " |      Deprecated, use self.wv.doesnt_match() instead.\n",
            " |      \n",
            " |      Refer to the documentation for :meth:`~gensim.models.keyedvectors.WordEmbeddingsKeyedVectors.doesnt_match`.\n",
            " |  \n",
            " |  estimate_memory(self, vocab_size=None, report=None)\n",
            " |      Estimate required memory for a model using current settings and provided vocabulary size.\n",
            " |      \n",
            " |      Parameters\n",
            " |      ----------\n",
            " |      vocab_size : int, optional\n",
            " |          Number of unique tokens in the vocabulary\n",
            " |      report : dict of (str, int), optional\n",
            " |          A dictionary from string representations of the model's memory consuming members to their size in bytes.\n",
            " |      \n",
            " |      Returns\n",
            " |      -------\n",
            " |      dict of (str, int)\n",
            " |          A dictionary from string representations of the model's memory consuming members to their size in bytes.\n",
            " |  \n",
            " |  evaluate_word_pairs(self, pairs, delimiter='\\t', restrict_vocab=300000, case_insensitive=True, dummy4unknown=False)\n",
            " |      Deprecated, use self.wv.evaluate_word_pairs() instead.\n",
            " |      \n",
            " |      Refer to the documentation for\n",
            " |      :meth:`~gensim.models.keyedvectors.WordEmbeddingsKeyedVectors.evaluate_word_pairs`.\n",
            " |  \n",
            " |  most_similar(self, positive=None, negative=None, topn=10, restrict_vocab=None, indexer=None)\n",
            " |      Deprecated, use self.wv.most_similar() instead.\n",
            " |      \n",
            " |      Refer to the documentation for :meth:`~gensim.models.keyedvectors.WordEmbeddingsKeyedVectors.most_similar`.\n",
            " |  \n",
            " |  most_similar_cosmul(self, positive=None, negative=None, topn=10)\n",
            " |      Deprecated, use self.wv.most_similar_cosmul() instead.\n",
            " |      \n",
            " |      Refer to the documentation for\n",
            " |      :meth:`~gensim.models.keyedvectors.WordEmbeddingsKeyedVectors.most_similar_cosmul`.\n",
            " |  \n",
            " |  n_similarity(self, ws1, ws2)\n",
            " |      Deprecated, use self.wv.n_similarity() instead.\n",
            " |      \n",
            " |      Refer to the documentation for :meth:`~gensim.models.keyedvectors.WordEmbeddingsKeyedVectors.n_similarity`.\n",
            " |  \n",
            " |  similar_by_vector(self, vector, topn=10, restrict_vocab=None)\n",
            " |      Deprecated, use self.wv.similar_by_vector() instead.\n",
            " |      \n",
            " |      Refer to the documentation for :meth:`~gensim.models.keyedvectors.WordEmbeddingsKeyedVectors.similar_by_vector`.\n",
            " |  \n",
            " |  similar_by_word(self, word, topn=10, restrict_vocab=None)\n",
            " |      Deprecated, use self.wv.similar_by_word() instead.\n",
            " |      \n",
            " |      Refer to the documentation for :meth:`~gensim.models.keyedvectors.WordEmbeddingsKeyedVectors.similar_by_word`.\n",
            " |  \n",
            " |  similarity(self, w1, w2)\n",
            " |      Deprecated, use self.wv.similarity() instead.\n",
            " |      \n",
            " |      Refer to the documentation for :meth:`~gensim.models.keyedvectors.WordEmbeddingsKeyedVectors.similarity`.\n",
            " |  \n",
            " |  wmdistance(self, document1, document2)\n",
            " |      Deprecated, use self.wv.wmdistance() instead.\n",
            " |      \n",
            " |      Refer to the documentation for :meth:`~gensim.models.keyedvectors.WordEmbeddingsKeyedVectors.wmdistance`.\n",
            " |  \n",
            " |  ----------------------------------------------------------------------\n",
            " |  Data descriptors inherited from gensim.models.base_any2vec.BaseWordEmbeddingsModel:\n",
            " |  \n",
            " |  cum_table\n",
            " |  \n",
            " |  hashfxn\n",
            " |  \n",
            " |  iter\n",
            " |  \n",
            " |  layer1_size\n",
            " |  \n",
            " |  min_count\n",
            " |  \n",
            " |  sample\n",
            " |  \n",
            " |  syn0_lockf\n",
            " |  \n",
            " |  syn1\n",
            " |  \n",
            " |  syn1neg\n",
            " |  \n",
            " |  ----------------------------------------------------------------------\n",
            " |  Data descriptors inherited from gensim.utils.SaveLoad:\n",
            " |  \n",
            " |  __dict__\n",
            " |      dictionary for instance variables (if defined)\n",
            " |  \n",
            " |  __weakref__\n",
            " |      list of weak references to the object (if defined)\n",
            "\n"
          ],
          "name": "stdout"
        }
      ]
    },
    {
      "cell_type": "code",
      "metadata": {
        "id": "pTJ-mQtDR8NM",
        "colab_type": "code",
        "colab": {
          "base_uri": "https://localhost:8080/",
          "height": 581
        },
        "outputId": "d81e7068-b22c-4c7c-da59-0f0e13ffdfa9"
      },
      "source": [
        "\n",
        "# define training data\n",
        "sentences = [['this', 'is', 'the', 'first', 'sentence', 'for', 'word2vec'],\n",
        "['this', 'is', 'the', 'second', 'sentence'],\n",
        "['yet', 'another', 'sentence'],\n",
        "['one', 'more', 'sentence'],\n",
        "['and', 'the', 'final', 'sentence']]\n",
        "# train model\n",
        "# parameters\n",
        "model = Word2Vec(sentences, min_count=1)\n",
        "\n",
        "# summarize the loaded model\n",
        "print(model)\n",
        "# summarize vocabulary\n",
        "words = list(model.wv.vocab)\n",
        "print(words)\n",
        "# access vector for one word\n",
        "print(model['sentence'])\n",
        "# save model\n",
        "model.save('model.bin')\n",
        "# load model\n",
        "new_model = Word2Vec.load('model.bin')\n",
        "print(new_model)"
      ],
      "execution_count": 1,
      "outputs": [
        {
          "output_type": "stream",
          "text": [
            "Word2Vec(vocab=14, size=100, alpha=0.025)\n",
            "['this', 'is', 'the', 'first', 'sentence', 'for', 'word2vec', 'second', 'yet', 'another', 'one', 'more', 'and', 'final']\n",
            "[-2.3813411e-03 -2.2731740e-04  4.6143732e-03  2.5907825e-03\n",
            "  2.4350032e-03  3.9513852e-03  3.9263773e-03  3.6820178e-03\n",
            " -4.0924666e-04 -3.0187808e-03  2.0946737e-03  1.1333646e-05\n",
            "  1.5251827e-03 -9.6622627e-04  2.1932423e-03 -3.1095427e-03\n",
            " -4.8762565e-03 -4.3482096e-03  2.8246178e-03 -6.3485425e-04\n",
            "  2.2399423e-03 -2.9151442e-03 -5.4456061e-04 -1.4738485e-03\n",
            "  4.7278041e-03 -4.2541376e-03  2.7392395e-03 -3.6937991e-04\n",
            "  1.1345000e-03 -4.0976363e-04 -2.8530273e-03  3.3336300e-03\n",
            "  1.2711077e-03  4.6047051e-03  4.8139086e-03  4.9646785e-03\n",
            " -1.3873666e-03 -2.3209858e-03 -3.1637397e-04 -2.4763721e-03\n",
            " -2.0020455e-03 -1.7880964e-04  2.2335961e-03 -1.2165640e-03\n",
            "  3.8483667e-03 -3.0600417e-03 -3.9329976e-03 -7.5219861e-05\n",
            " -2.4622651e-03  3.2679278e-03 -4.4918507e-03 -1.1589582e-03\n",
            " -1.8280613e-03  3.1770896e-03  3.7116492e-03  1.5778228e-03\n",
            " -2.8355438e-03 -3.9989012e-03 -1.1236296e-03  2.1243999e-03\n",
            " -6.3866674e-04  3.5976104e-03 -1.3264382e-04  7.8135991e-04\n",
            " -4.2831236e-03  9.3531102e-04 -1.3836460e-03  2.5174348e-03\n",
            "  4.2044665e-03 -2.0912474e-03  4.0890137e-03  2.4700342e-03\n",
            "  2.0005649e-03  3.4591064e-03 -1.4694661e-03  1.3164339e-04\n",
            " -4.3776645e-03 -3.8729928e-04  2.1594968e-03 -4.6113706e-03\n",
            "  9.3317899e-04 -5.5597367e-04 -7.6563924e-04  1.5551088e-03\n",
            "  3.2575077e-03 -3.1225474e-03 -4.2093368e-03  1.3979186e-03\n",
            " -1.9808740e-03 -4.1621464e-04 -6.3751289e-04  3.9499104e-03\n",
            "  1.0456607e-03 -3.7468891e-03 -1.5150359e-03  8.2678028e-04\n",
            " -8.5630181e-04  2.4980551e-05  2.6485816e-04  3.3407193e-03]\n",
            "Word2Vec(vocab=14, size=100, alpha=0.025)\n"
          ],
          "name": "stdout"
        },
        {
          "output_type": "stream",
          "text": [
            "/usr/local/lib/python3.6/dist-packages/ipykernel_launcher.py:16: DeprecationWarning: Call to deprecated `__getitem__` (Method will be removed in 4.0.0, use self.wv.__getitem__() instead).\n",
            "  app.launch_new_instance()\n",
            "/usr/local/lib/python3.6/dist-packages/smart_open/smart_open_lib.py:402: UserWarning: This function is deprecated, use smart_open.open instead. See the migration notes for details: https://github.com/RaRe-Technologies/smart_open/blob/master/README.rst#migrating-to-the-new-open-function\n",
            "  'See the migration notes for details: %s' % _MIGRATION_NOTES_URL\n"
          ],
          "name": "stderr"
        }
      ]
    },
    {
      "cell_type": "code",
      "metadata": {
        "id": "DnTS0qI_SOEz",
        "colab_type": "code",
        "colab": {
          "base_uri": "https://localhost:8080/",
          "height": 319
        },
        "outputId": "41977e13-c3fe-4e1b-b806-8afe1ef9b7d1"
      },
      "source": [
        "from gensim.models import Word2Vec\n",
        "from sklearn.decomposition import PCA\n",
        "from matplotlib import pyplot\n",
        "# define training data\n",
        "sentences = [['this', 'is', 'the', 'first', 'sentence', 'for', 'word2vec'],\n",
        "['this', 'is', 'the', 'second', 'sentence'],\n",
        "['yet', 'another', 'sentence'],\n",
        "['one', 'more', 'sentence'],\n",
        "['and', 'the', 'final', 'sentence']]\n",
        "# train model\n",
        "model = Word2Vec(sentences, min_count=1)\n",
        "# fit a 2d PCA model to the vectors\n",
        "X = model[model.wv.vocab]\n",
        "pca = PCA(n_components=2)\n",
        "result = pca.fit_transform(X)\n",
        "# create a scatter plot of the projection\n",
        "pyplot.scatter(result[:, 0], result[:, 1])\n",
        "words = list(model.wv.vocab)\n",
        "for i, word in enumerate(words):\n",
        "  pyplot.annotate(word, xy=(result[i, 0], result[i, 1]))\n",
        "pyplot.show()"
      ],
      "execution_count": 4,
      "outputs": [
        {
          "output_type": "stream",
          "text": [
            "/usr/local/lib/python3.6/dist-packages/ipykernel_launcher.py:13: DeprecationWarning: Call to deprecated `__getitem__` (Method will be removed in 4.0.0, use self.wv.__getitem__() instead).\n",
            "  del sys.path[0]\n"
          ],
          "name": "stderr"
        },
        {
          "output_type": "display_data",
          "data": {
            "image/png": "[encoded data removed]",
            "text/plain": [
              "<Figure size 432x288 with 1 Axes>"
            ]
          },
          "metadata": {
            "tags": []
          }
        }
      ]
    },
    {
      "cell_type": "code",
      "metadata": {
        "id": "htvaTrIQR_V_",
        "colab_type": "code",
        "colab": {
          "base_uri": "https://localhost:8080/",
          "height": 204
        },
        "outputId": "48469d1c-9418-4d18-9798-4dd5b0c38ce1"
      },
      "source": [
        "!wget https://drive.google.com/file/d/0B7XkCwpI5KDYNlNUTTlSS21pQmM/edit?usp=sharing"
      ],
      "execution_count": 5,
      "outputs": [
        {
          "output_type": "stream",
          "text": [
            "--2020-02-09 09:33:00--  https://drive.google.com/file/d/0B7XkCwpI5KDYNlNUTTlSS21pQmM/edit?usp=sharing\n",
            "Resolving drive.google.com (drive.google.com)... 74.125.203.101, 74.125.203.138, 74.125.203.102, ...\n",
            "Connecting to drive.google.com (drive.google.com)|74.125.203.101|:443... connected.\n",
            "HTTP request sent, awaiting response... 200 OK\n",
            "Length: unspecified [text/html]\n",
            "Saving to: ‘edit?usp=sharing’\n",
            "\n",
            "edit?usp=sharing        [ <=>                ]  66.92K  --.-KB/s    in 0.1s    \n",
            "\n",
            "2020-02-09 09:33:02 (570 KB/s) - ‘edit?usp=sharing’ saved [68527]\n",
            "\n"
          ],
          "name": "stdout"
        }
      ]
    },
    {
      "cell_type": "code",
      "metadata": {
        "id": "9TDOHeWPS4Oz",
        "colab_type": "code",
        "colab": {}
      },
      "source": [
        "filename = \"/content/drive/My Drive/W2v_vec/GoogleNews-vectors-negative300.bin.gz\""
      ],
      "execution_count": 0,
      "outputs": []
    },
    {
      "cell_type": "code",
      "metadata": {
        "id": "FiLny19_Tkah",
        "colab_type": "code",
        "colab": {
          "base_uri": "https://localhost:8080/",
          "height": 34
        },
        "outputId": "cac00c77-25ea-457c-88cd-5a3a6a26e58b"
      },
      "source": [
        "from gensim.models import KeyedVectors\n",
        "# load the google word2vec model\n",
        "model = KeyedVectors.load_word2vec_format(filename, binary=True)\n",
        "# calculate: (king - man) + woman = ?\n",
        "result = model.most_similar(positive=['woman', 'king'], negative=['man'], topn=1)\n",
        "\n",
        "print(result)"
      ],
      "execution_count": 8,
      "outputs": [
        {
          "output_type": "stream",
          "text": [
            "[('queen', 0.7118192911148071)]\n"
          ],
          "name": "stdout"
        }
      ]
    },
    {
      "cell_type": "markdown",
      "metadata": {
        "id": "J1eDQjERUAqo",
        "colab_type": "text"
      },
      "source": [
        "## Keras Embedding Layer\n"
      ]
    },
    {
      "cell_type": "code",
      "metadata": {
        "id": "0H3Se4PDUD7N",
        "colab_type": "code",
        "colab": {
          "base_uri": "https://localhost:8080/",
          "height": 1000
        },
        "outputId": "8b5df873-3379-4bc0-bd15-0dce2499a1ff"
      },
      "source": [
        "from keras.preprocessing.text import one_hot\n",
        "from keras.preprocessing.sequence import pad_sequences\n",
        "from keras.models import Sequential\n",
        "from keras.layers import Dense\n",
        "from keras.layers import Flatten\n",
        "from keras.layers.embeddings import Embedding\n",
        "# define documents\n",
        "docs = ['Well done!',\n",
        "'Good work',\n",
        "'Great effort',\n",
        "'nice work',\n",
        "'Excellent!',\n",
        "'Weak',\n",
        "'Poor effort!',\n",
        "'not good',\n",
        "'poor work',\n",
        "'Could have done better.']\n",
        "# define class labels\n",
        "labels = [1,1,1,1,1,0,0,0,0,0]\n",
        "# integer encode the documents\n",
        "vocab_size = 50\n",
        "encoded_docs = [one_hot(d, vocab_size) for d in docs]\n",
        "print(encoded_docs)\n",
        "# pad documents to a max length of 4 words\n",
        "max_length = 4\n",
        "padded_docs = pad_sequences(encoded_docs, maxlen=max_length, padding='post')\n",
        "print(padded_docs)\n",
        "# define the model\n",
        "model = Sequential()\n",
        "model.add(Embedding(vocab_size, 8, input_length=max_length))\n",
        "model.add(Flatten())\n",
        "model.add(Dense(1, activation='sigmoid'))\n",
        "# compile the model\n",
        "model.compile(optimizer='adam', loss='binary_crossentropy', metrics=['acc'])\n",
        "# summarize the model\n",
        "model.summary()\n",
        "# fit the model\n",
        "model.fit(padded_docs, labels, epochs=50, verbose=0)\n",
        "# evaluate the model\n",
        "loss, accuracy = model.evaluate(padded_docs, labels, verbose=0)\n",
        "print('Accuracy: %f' % (accuracy*100))"
      ],
      "execution_count": 9,
      "outputs": [
        {
          "output_type": "stream",
          "text": [
            "Using TensorFlow backend.\n"
          ],
          "name": "stderr"
        },
        {
          "output_type": "display_data",
          "data": {
            "text/html": [
              "<p style=\"color: red;\">\n",
              "The default version of TensorFlow in Colab will soon switch to TensorFlow 2.x.<br>\n",
              "We recommend you <a href=\"https://www.tensorflow.org/guide/migrate\" target=\"_blank\">upgrade</a> now \n",
              "or ensure your notebook will continue to use TensorFlow 1.x via the <code>%tensorflow_version 1.x</code> magic:\n",
              "<a href=\"https://colab.research.google.com/notebooks/tensorflow_version.ipynb\" target=\"_blank\">more info</a>.</p>\n"
            ],
            "text/plain": [
              "<IPython.core.display.HTML object>"
            ]
          },
          "metadata": {
            "tags": []
          }
        },
        {
          "output_type": "stream",
          "text": [
            "[[42, 5], [30, 24], [21, 34], [14, 24], [24], [26], [38, 34], [11, 30], [38, 24], [12, 16, 5, 25]]\n",
            "[[42  5  0  0]\n",
            " [30 24  0  0]\n",
            " [21 34  0  0]\n",
            " [14 24  0  0]\n",
            " [24  0  0  0]\n",
            " [26  0  0  0]\n",
            " [38 34  0  0]\n",
            " [11 30  0  0]\n",
            " [38 24  0  0]\n",
            " [12 16  5 25]]\n",
            "WARNING:tensorflow:From /usr/local/lib/python3.6/dist-packages/keras/backend/tensorflow_backend.py:66: The name tf.get_default_graph is deprecated. Please use tf.compat.v1.get_default_graph instead.\n",
            "\n",
            "WARNING:tensorflow:From /usr/local/lib/python3.6/dist-packages/keras/backend/tensorflow_backend.py:541: The name tf.placeholder is deprecated. Please use tf.compat.v1.placeholder instead.\n",
            "\n",
            "WARNING:tensorflow:From /usr/local/lib/python3.6/dist-packages/keras/backend/tensorflow_backend.py:4432: The name tf.random_uniform is deprecated. Please use tf.random.uniform instead.\n",
            "\n",
            "WARNING:tensorflow:From /usr/local/lib/python3.6/dist-packages/keras/optimizers.py:793: The name tf.train.Optimizer is deprecated. Please use tf.compat.v1.train.Optimizer instead.\n",
            "\n",
            "WARNING:tensorflow:From /usr/local/lib/python3.6/dist-packages/keras/backend/tensorflow_backend.py:3657: The name tf.log is deprecated. Please use tf.math.log instead.\n",
            "\n",
            "WARNING:tensorflow:From /usr/local/lib/python3.6/dist-packages/tensorflow_core/python/ops/nn_impl.py:183: where (from tensorflow.python.ops.array_ops) is deprecated and will be removed in a future version.\n",
            "Instructions for updating:\n",
            "Use tf.where in 2.0, which has the same broadcast rule as np.where\n",
            "Model: \"sequential_1\"\n",
            "_________________________________________________________________\n",
            "Layer (type)                 Output Shape              Param #   \n",
            "=================================================================\n",
            "embedding_1 (Embedding)      (None, 4, 8)              400       \n",
            "_________________________________________________________________\n",
            "flatten_1 (Flatten)          (None, 32)                0         \n",
            "_________________________________________________________________\n",
            "dense_1 (Dense)              (None, 1)                 33        \n",
            "=================================================================\n",
            "Total params: 433\n",
            "Trainable params: 433\n",
            "Non-trainable params: 0\n",
            "_________________________________________________________________\n",
            "WARNING:tensorflow:From /usr/local/lib/python3.6/dist-packages/keras/backend/tensorflow_backend.py:1033: The name tf.assign_add is deprecated. Please use tf.compat.v1.assign_add instead.\n",
            "\n",
            "WARNING:tensorflow:From /usr/local/lib/python3.6/dist-packages/keras/backend/tensorflow_backend.py:1020: The name tf.assign is deprecated. Please use tf.compat.v1.assign instead.\n",
            "\n",
            "WARNING:tensorflow:From /usr/local/lib/python3.6/dist-packages/keras/backend/tensorflow_backend.py:3005: The name tf.Session is deprecated. Please use tf.compat.v1.Session instead.\n",
            "\n",
            "WARNING:tensorflow:From /usr/local/lib/python3.6/dist-packages/keras/backend/tensorflow_backend.py:190: The name tf.get_default_session is deprecated. Please use tf.compat.v1.get_default_session instead.\n",
            "\n",
            "WARNING:tensorflow:From /usr/local/lib/python3.6/dist-packages/keras/backend/tensorflow_backend.py:197: The name tf.ConfigProto is deprecated. Please use tf.compat.v1.ConfigProto instead.\n",
            "\n",
            "WARNING:tensorflow:From /usr/local/lib/python3.6/dist-packages/keras/backend/tensorflow_backend.py:207: The name tf.global_variables is deprecated. Please use tf.compat.v1.global_variables instead.\n",
            "\n",
            "WARNING:tensorflow:From /usr/local/lib/python3.6/dist-packages/keras/backend/tensorflow_backend.py:216: The name tf.is_variable_initialized is deprecated. Please use tf.compat.v1.is_variable_initialized instead.\n",
            "\n",
            "WARNING:tensorflow:From /usr/local/lib/python3.6/dist-packages/keras/backend/tensorflow_backend.py:223: The name tf.variables_initializer is deprecated. Please use tf.compat.v1.variables_initializer instead.\n",
            "\n",
            "Accuracy: 80.000001\n"
          ],
          "name": "stdout"
        }
      ]
    },
    {
      "cell_type": "markdown",
      "metadata": {
        "id": "Dkh-xo8iXOA2",
        "colab_type": "text"
      },
      "source": [
        "# Universal sentence encoder"
      ]
    },
    {
      "cell_type": "markdown",
      "metadata": {
        "id": "VluP_-pUYEJm",
        "colab_type": "text"
      },
      "source": [
        "## Note: Below code may take some time as it will download 1gb data "
      ]
    },
    {
      "cell_type": "code",
      "metadata": {
        "id": "Y-UJdG1TUPdG",
        "colab_type": "code",
        "colab": {
          "base_uri": "https://localhost:8080/",
          "height": 34
        },
        "outputId": "ae84e2bc-b4e3-4ed4-a095-b3533476ac1b"
      },
      "source": [
        "import tensorflow as tf\n",
        "\n",
        "embed = hub.load(\"https://tfhub.dev/google/universal-sentence-encoder/4\")\n",
        "embeddings = embed([\n",
        "    \"The quick brown fox jumps over the lazy dog.\",\n",
        "    \"I am a sentence for which I would like to get its embedding\"])\n",
        "\n",
        "print(embeddings)\n",
        "\n",
        "# The following are example embedding output of 512 dimensions per sentence\n",
        "# Embedding for: The quick brown fox jumps over the lazy dog.\n",
        "# [-0.03133016 -0.06338634 -0.01607501, ...]\n",
        "# Embedding for: I am a sentence for which I would like to get its embedding.\n",
        "# [0.05080863 -0.0165243   0.01573782, ...]"
      ],
      "execution_count": 17,
      "outputs": [
        {
          "output_type": "stream",
          "text": [
            "Tensor(\"StatefulPartitionedCall_3:0\", shape=(?, 512), dtype=float32)\n"
          ],
          "name": "stdout"
        }
      ]
    },
    {
      "cell_type": "markdown",
      "metadata": {
        "id": "bz3beHBdZLlo",
        "colab_type": "text"
      },
      "source": [
        "# Keras embedding layer from TF-HUB"
      ]
    },
    {
      "cell_type": "code",
      "metadata": {
        "id": "hd6OYI4LXpPY",
        "colab_type": "code",
        "colab": {}
      },
      "source": [
        "  !pip install \"tensorflow_hub>=0.6.0\"\n",
        "  !pip install \"tensorflow>=2.0.0\"\n",
        "\n",
        "  import tensorflow as tf\n",
        "  import tensorflow_hub as hub\n",
        "\n",
        "  module_url = \"https://tfhub.dev/google/nnlm-en-dim128/2\"\n",
        "  embed = hub.KerasLayer(module_url)\n",
        "  embeddings = embed([\"A long sentence.\", \"single-word\",\n",
        "                      \"http://example.com\"])\n",
        "  print(embeddings.shape)  #(3,128)"
      ],
      "execution_count": 0,
      "outputs": []
    },
    {
      "cell_type": "code",
      "metadata": {
        "id": "EY4vs3mYY_Uw",
        "colab_type": "code",
        "colab": {
          "base_uri": "https://localhost:8080/",
          "height": 34
        },
        "outputId": "706f1ce2-0aae-48e5-f64a-c26101f0bf92"
      },
      "source": [
        "print(embeddings.shape)"
      ],
      "execution_count": 24,
      "outputs": [
        {
          "output_type": "stream",
          "text": [
            "(?, 128)\n"
          ],
          "name": "stdout"
        }
      ]
    },
    {
      "cell_type": "code",
      "metadata": {
        "id": "tXswiBxEZfsl",
        "colab_type": "code",
        "colab": {
          "base_uri": "https://localhost:8080/",
          "height": 34
        },
        "outputId": "449397b8-adc3-4dcb-ca85-c172a6155af5"
      },
      "source": [
        "embeddings = embed([\"A long sentence.\", \"single-word\",\n",
        "                      \"http://example.com\"])\n",
        "print(embeddings.shape)"
      ],
      "execution_count": 25,
      "outputs": [
        {
          "output_type": "stream",
          "text": [
            "(?, 128)\n"
          ],
          "name": "stdout"
        }
      ]
    },
    {
      "cell_type": "code",
      "metadata": {
        "id": "Id0I2EXpZmOJ",
        "colab_type": "code",
        "colab": {}
      },
      "source": [
        ""
      ],
      "execution_count": 0,
      "outputs": []
    },
    {
      "cell_type": "markdown",
      "metadata": {
        "id": "owXwBPTLaUpU",
        "colab_type": "text"
      },
      "source": [
        "# Universal Sentence Encoder in practice"
      ]
    },
    {
      "cell_type": "markdown",
      "metadata": {
        "colab_type": "text",
        "id": "eAVQGidpL8v5"
      },
      "source": [
        "This notebook illustrates how to access the Universal Sentence Encoder and use it for sentence similarity and sentence classification tasks.\n",
        "\n",
        "The Universal Sentence Encoder makes getting sentence level embeddings as easy as it has historically been to lookup the embeddings for individual words. The sentence embeddings can then be trivially used to compute sentence level meaning similarity as well as to enable better performance on downstream classification tasks using less supervised training data.\n"
      ]
    },
    {
      "cell_type": "markdown",
      "metadata": {
        "colab_type": "text",
        "id": "pOTzp8O36CyQ"
      },
      "source": [
        "# Getting Started\n",
        "\n",
        "This section sets up the environment for access to the Universal Sentence Encoder on TF Hub and provides examples of applying the encoder to words, sentences, and paragraphs."
      ]
    },
    {
      "cell_type": "code",
      "metadata": {
        "colab_type": "code",
        "id": "lVjNK8shFKOC",
        "colab": {}
      },
      "source": [
        "%%capture\n",
        "# Install the latest Tensorflow version.\n",
        "!pip3 install --upgrade tensorflow-gpu\n",
        "# Install TF-Hub.\n",
        "!pip3 install tensorflow-hub\n",
        "!pip3 install seaborn"
      ],
      "execution_count": 0,
      "outputs": []
    },
    {
      "cell_type": "markdown",
      "metadata": {
        "colab_type": "text",
        "id": "63Pd3nJnTl-i"
      },
      "source": [
        "More detailed information about installing Tensorflow can be found at [https://www.tensorflow.org/install/](https://www.tensorflow.org/install/)."
      ]
    },
    {
      "cell_type": "code",
      "metadata": {
        "colab_type": "code",
        "id": "zwty8Z6mAkdV",
        "colab": {
          "base_uri": "https://localhost:8080/",
          "height": 34
        },
        "outputId": "bc3c8a6b-9a61-4fd4-df8e-4ed6e74e9b69"
      },
      "source": [
        "#@title Load the Universal Sentence Encoder's TF Hub module\n",
        "from absl import logging\n",
        "\n",
        "import tensorflow as tf\n",
        "import tensorflow_hub as hub\n",
        "import matplotlib.pyplot as plt\n",
        "import numpy as np\n",
        "import os\n",
        "import pandas as pd\n",
        "import re\n",
        "import seaborn as sns\n",
        "\n",
        "module_url = \"https://tfhub.dev/google/universal-sentence-encoder/4\" #@param [\"https://tfhub.dev/google/universal-sentence-encoder/4\", \"https://tfhub.dev/google/universal-sentence-encoder-large/5\"]\n",
        "model = hub.load(module_url)\n",
        "print (\"module %s loaded\" % module_url)\n",
        "def embed(input):\n",
        "  return model(input)"
      ],
      "execution_count": 2,
      "outputs": [
        {
          "output_type": "stream",
          "text": [
            "module https://tfhub.dev/google/universal-sentence-encoder/4 loaded\n"
          ],
          "name": "stdout"
        }
      ]
    },
    {
      "cell_type": "code",
      "metadata": {
        "colab_type": "code",
        "id": "Q8F4LNGFqOiq",
        "colab": {
          "base_uri": "https://localhost:8080/",
          "height": 241
        },
        "outputId": "bb935bd8-3cf1-4fbb-8c5d-2b855f4be443"
      },
      "source": [
        "#@title Compute a representation for each message, showing various lengths supported.\n",
        "word = \"Elephant\"\n",
        "sentence = \"I am a sentence for which I would like to get its embedding.\"\n",
        "paragraph = (\n",
        "    \"Universal Sentence Encoder embeddings also support short paragraphs. \"\n",
        "    \"There is no hard limit on how long the paragraph is. Roughly, the longer \"\n",
        "    \"the more 'diluted' the embedding will be.\")\n",
        "messages = [word, sentence, paragraph]\n",
        "\n",
        "# Reduce logging output.\n",
        "logging.set_verbosity(logging.ERROR)\n",
        "\n",
        "message_embeddings = embed(messages)\n",
        "\n",
        "for i, message_embedding in enumerate(np.array(message_embeddings).tolist()):\n",
        "  print(\"Message: {}\".format(messages[i]))\n",
        "  print(\"Embedding size: {}\".format(len(message_embedding)))\n",
        "  message_embedding_snippet = \", \".join(\n",
        "      (str(x) for x in message_embedding[:3]))\n",
        "  print(\"Embedding: [{}, ...]\\n\".format(message_embedding_snippet))"
      ],
      "execution_count": 3,
      "outputs": [
        {
          "output_type": "stream",
          "text": [
            "Message: Elephant\n",
            "Embedding size: 512\n",
            "Embedding: [0.008344489149749279, 0.0004808177181985229, 0.06595245748758316, ...]\n",
            "\n",
            "Message: I am a sentence for which I would like to get its embedding.\n",
            "Embedding size: 512\n",
            "Embedding: [0.0508086122572422, -0.01652432791888714, 0.015737779438495636, ...]\n",
            "\n",
            "Message: Universal Sentence Encoder embeddings also support short paragraphs. There is no hard limit on how long the paragraph is. Roughly, the longer the more 'diluted' the embedding will be.\n",
            "Embedding size: 512\n",
            "Embedding: [-0.028332673013210297, -0.0558621883392334, -0.01294147502630949, ...]\n",
            "\n"
          ],
          "name": "stdout"
        }
      ]
    },
    {
      "cell_type": "markdown",
      "metadata": {
        "colab_type": "text",
        "id": "BnvjATdy64eR"
      },
      "source": [
        "# Semantic Textual Similarity Task Example\n",
        "\n",
        "The embeddings produced by the Universal Sentence Encoder are approximately normalized. The semantic similarity of two sentences can be trivially computed as the inner product of the encodings."
      ]
    },
    {
      "cell_type": "code",
      "metadata": {
        "colab_type": "code",
        "id": "h1FFCTKm7ba4",
        "colab": {}
      },
      "source": [
        "def plot_similarity(labels, features, rotation):\n",
        "  corr = np.inner(features, features)\n",
        "  sns.set(font_scale=1.2)\n",
        "  g = sns.heatmap(\n",
        "      corr,\n",
        "      xticklabels=labels,\n",
        "      yticklabels=labels,\n",
        "      vmin=0,\n",
        "      vmax=1,\n",
        "      cmap=\"YlOrRd\")\n",
        "  g.set_xticklabels(labels, rotation=rotation)\n",
        "  g.set_title(\"Semantic Textual Similarity\")\n",
        "\n",
        "def run_and_plot(messages_):\n",
        "  message_embeddings_ = embed(messages_)\n",
        "  plot_similarity(messages_, message_embeddings_, 90)"
      ],
      "execution_count": 0,
      "outputs": []
    },
    {
      "cell_type": "markdown",
      "metadata": {
        "colab_type": "text",
        "id": "339tuJ5Pwqqv"
      },
      "source": [
        "## Similarity Visualized\n",
        "Here we show the similarity in a heat map. The final graph is a 9x9 matrix where each entry `[i, j]` is colored based on the inner product of the encodings for sentence `i` and `j`."
      ]
    },
    {
      "cell_type": "code",
      "metadata": {
        "colab_type": "code",
        "id": "cPMCaxrZwp7t",
        "colab": {
          "base_uri": "https://localhost:8080/",
          "height": 566
        },
        "outputId": "014938f9-8b9f-45b0-828a-0f96ff196c64"
      },
      "source": [
        "messages = [\n",
        "    # Smartphones\n",
        "    \"I like my phone\",\n",
        "    \"My phone is not good.\",\n",
        "    \"Your cellphone looks great.\",\n",
        "\n",
        "    # Weather\n",
        "    \"Will it snow tomorrow?\",\n",
        "    \"Recently a lot of hurricanes have hit the US\",\n",
        "    \"Global warming is real\",\n",
        "\n",
        "    # Food and health\n",
        "    \"An apple a day, keeps the doctors away\",\n",
        "    \"Eating strawberries is healthy\",\n",
        "    \"Is paleo better than keto?\",\n",
        "\n",
        "    # Asking about age\n",
        "    \"How old are you?\",\n",
        "    \"what is your age?\",\n",
        "]\n",
        "\n",
        "run_and_plot(messages)\n",
        "               "
      ],
      "execution_count": 5,
      "outputs": [
        {
          "output_type": "display_data",
          "data": {
            "image/png": "[encoded data removed]",
            "text/plain": [
              "<Figure size 432x288 with 2 Axes>"
            ]
          },
          "metadata": {
            "tags": []
          }
        }
      ]
    },
    {
      "cell_type": "markdown",
      "metadata": {
        "colab_type": "text",
        "id": "6FjdeCqPJeg-"
      },
      "source": [
        "## Evaluation: STS (Semantic Textual Similarity) Benchmark\n",
        "\n",
        "The [**STS Benchmark**](http://ixa2.si.ehu.es/stswiki/index.php/STSbenchmark) provides an intristic evaluation of the degree to which similarity scores computed using sentence embeddings align with human judgements. The benchmark requires systems to return similarity scores for a diverse selection of sentence pairs. [Pearson correlation](https://en.wikipedia.org/wiki/Pearson_correlation_coefficient) is then used to evaluate the quality of the machine similarity scores against human judgements."
      ]
    },
    {
      "cell_type": "markdown",
      "metadata": {
        "colab_type": "text",
        "id": "q5nuBbI1iFQR"
      },
      "source": [
        "### Download data"
      ]
    },
    {
      "cell_type": "code",
      "metadata": {
        "colab_type": "code",
        "id": "VOs8ZfOnJeBF",
        "colab": {
          "base_uri": "https://localhost:8080/",
          "height": 51
        },
        "outputId": "59721f90-692d-4d3e-9972-8122e19b9b9f"
      },
      "source": [
        "import pandas\n",
        "import scipy\n",
        "import math\n",
        "import csv\n",
        "\n",
        "sts_dataset = tf.keras.utils.get_file(\n",
        "    fname=\"Stsbenchmark.tar.gz\",\n",
        "    origin=\"http://ixa2.si.ehu.es/stswiki/images/4/48/Stsbenchmark.tar.gz\",\n",
        "    extract=True)\n",
        "sts_dev = pandas.read_table(\n",
        "    os.path.join(os.path.dirname(sts_dataset), \"stsbenchmark\", \"sts-dev.csv\"),\n",
        "    error_bad_lines=False,\n",
        "    skip_blank_lines=True,\n",
        "    usecols=[4, 5, 6],\n",
        "    names=[\"sim\", \"sent_1\", \"sent_2\"])\n",
        "sts_test = pandas.read_table(\n",
        "    os.path.join(\n",
        "        os.path.dirname(sts_dataset), \"stsbenchmark\", \"sts-test.csv\"),\n",
        "    error_bad_lines=False,\n",
        "    quoting=csv.QUOTE_NONE,\n",
        "    skip_blank_lines=True,\n",
        "    usecols=[4, 5, 6],\n",
        "    names=[\"sim\", \"sent_1\", \"sent_2\"])\n",
        "# cleanup some NaN values in sts_dev\n",
        "sts_dev = sts_dev[[isinstance(s, str) for s in sts_dev['sent_2']]]"
      ],
      "execution_count": 6,
      "outputs": [
        {
          "output_type": "stream",
          "text": [
            "Downloading data from http://ixa2.si.ehu.es/stswiki/images/4/48/Stsbenchmark.tar.gz\n",
            "417792/409630 [==============================] - 4s 9us/step\n"
          ],
          "name": "stdout"
        }
      ]
    },
    {
      "cell_type": "markdown",
      "metadata": {
        "colab_type": "text",
        "id": "8OKy8WhnKRe_"
      },
      "source": [
        "### Evaluate Sentence Embeddings"
      ]
    },
    {
      "cell_type": "code",
      "metadata": {
        "colab_type": "code",
        "id": "W-q2r7jyZGb7",
        "colab": {
          "base_uri": "https://localhost:8080/",
          "height": 51
        },
        "outputId": "9882794a-d992-45f4-92ca-1f7760ce2935"
      },
      "source": [
        "sts_data = sts_dev #@param [\"sts_dev\", \"sts_test\"] {type:\"raw\"}\n",
        "\n",
        "def run_sts_benchmark(batch):\n",
        "  sts_encode1 = tf.nn.l2_normalize(embed(tf.constant(batch['sent_1'].tolist())), axis=1)\n",
        "  sts_encode2 = tf.nn.l2_normalize(embed(tf.constant(batch['sent_2'].tolist())), axis=1)\n",
        "  cosine_similarities = tf.reduce_sum(tf.multiply(sts_encode1, sts_encode2), axis=1)\n",
        "  clip_cosine_similarities = tf.clip_by_value(cosine_similarities, -1.0, 1.0)\n",
        "  scores = 1.0 - tf.acos(clip_cosine_similarities)\n",
        "  \"\"\"Returns the similarity scores\"\"\"\n",
        "  return scores\n",
        "\n",
        "dev_scores = sts_data['sim'].tolist()\n",
        "scores = []\n",
        "for batch in np.array_split(sts_data, 10):\n",
        "  scores.extend(run_sts_benchmark(batch))\n",
        "\n",
        "pearson_correlation = scipy.stats.pearsonr(scores, dev_scores)\n",
        "print('Pearson correlation coefficient = {0}\\np-value = {1}'.format(\n",
        "    pearson_correlation[0], pearson_correlation[1]))"
      ],
      "execution_count": 7,
      "outputs": [
        {
          "output_type": "stream",
          "text": [
            "Pearson correlation coefficient = 0.8036394624037714\n",
            "p-value = 0.0\n"
          ],
          "name": "stdout"
        }
      ]
    }
  ]
}